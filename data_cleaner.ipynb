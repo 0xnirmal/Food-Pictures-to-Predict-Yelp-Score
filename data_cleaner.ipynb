{
 "cells": [
  {
   "cell_type": "code",
   "execution_count": 85,
   "metadata": {
    "collapsed": true
   },
   "outputs": [],
   "source": [
    "import pandas as pd"
   ]
  },
  {
   "cell_type": "code",
   "execution_count": 86,
   "metadata": {
    "collapsed": false
   },
   "outputs": [],
   "source": [
    "photo_df = pd.read_csv(\"data/photos.csv\")"
   ]
  },
  {
   "cell_type": "code",
   "execution_count": 87,
   "metadata": {
    "collapsed": false
   },
   "outputs": [],
   "source": [
    "photo_df.drop([\"caption\"], axis=1, inplace=True)\n",
    "photo_df = photo_df[photo_df[\"label\"] == \"food\"]\n",
    "photo_df = photo_df.groupby(\"business_id\").filter(lambda x: len(x) >= 5)\n",
    "photo_df = photo_df.drop([\"label\"], axis=1).reset_index(drop=True)\n",
    "photo_df.set_index(\"photo_id\", inplace=True)"
   ]
  },
  {
   "cell_type": "code",
   "execution_count": 88,
   "metadata": {
    "collapsed": true
   },
   "outputs": [],
   "source": [
    "biz_df = pd.read_csv(\"data/business.csv\")"
   ]
  },
  {
   "cell_type": "code",
   "execution_count": 89,
   "metadata": {
    "collapsed": false
   },
   "outputs": [],
   "source": [
    "biz_df = biz_df.set_index(\"business_id\").loc[photo_df[\"business_id\"].unique()]\n",
    "biz_df = biz_df[[\"review_count\", \"stars\"]]\n",
    "biz_df = biz_df[biz_df[\"review_count\"] >= 10]"
   ]
  },
  {
   "cell_type": "code",
   "execution_count": 90,
   "metadata": {
    "collapsed": false
   },
   "outputs": [],
   "source": [
    "photo_df = photo_df[photo_df['business_id'].isin(biz_df.index) == True]"
   ]
  },
  {
   "cell_type": "code",
   "execution_count": 91,
   "metadata": {
    "collapsed": false
   },
   "outputs": [],
   "source": [
    "biz_df.to_csv(\"data/clean_business.csv\")\n",
    "photo_df.to_csv(\"data/clean_photo.csv\")"
   ]
  }
 ],
 "metadata": {
  "kernelspec": {
   "display_name": "Python 3",
   "language": "python",
   "name": "python3"
  },
  "language_info": {
   "codemirror_mode": {
    "name": "ipython",
    "version": 3
   },
   "file_extension": ".py",
   "mimetype": "text/x-python",
   "name": "python",
   "nbconvert_exporter": "python",
   "pygments_lexer": "ipython3",
   "version": "3.6.4"
  }
 },
 "nbformat": 4,
 "nbformat_minor": 2
}
