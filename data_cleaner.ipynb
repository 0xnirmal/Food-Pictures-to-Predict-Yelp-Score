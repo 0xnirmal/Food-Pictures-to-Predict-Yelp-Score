{
 "cells": [
  {
   "cell_type": "code",
   "execution_count": 31,
   "metadata": {
    "collapsed": false
   },
   "outputs": [],
   "source": [
    "import sys\n",
    "import pandas as pd\n",
    "import matplotlib.pyplot as plt\n",
    "from skimage import io, transform\n",
    "from skimage.measure import block_reduce\n",
    "import numpy as np"
   ]
  },
  {
   "cell_type": "code",
   "execution_count": 43,
   "metadata": {
    "collapsed": false
   },
   "outputs": [],
   "source": [
    "photo_df = pd.read_csv(\"data/photos.csv\")"
   ]
  },
  {
   "cell_type": "code",
   "execution_count": 44,
   "metadata": {
    "collapsed": false
   },
   "outputs": [],
   "source": [
    "photo_df.drop([\"caption\"], axis=1, inplace=True)\n",
    "photo_df = photo_df[photo_df[\"label\"] == \"food\"]\n",
    "# photo_df = photo_df.groupby(\"business_id\").filter(lambda x: len(x) >= 5)\n",
    "photo_df = photo_df.drop([\"label\"], axis=1).reset_index(drop=True)\n",
    "photo_df.set_index(\"photo_id\", inplace=True)"
   ]
  },
  {
   "cell_type": "code",
   "execution_count": 45,
   "metadata": {
    "collapsed": true
   },
   "outputs": [],
   "source": [
    "biz_df = pd.read_csv(\"data/business.csv\")"
   ]
  },
  {
   "cell_type": "code",
   "execution_count": 46,
   "metadata": {
    "collapsed": false
   },
   "outputs": [],
   "source": [
    "biz_df = biz_df.set_index(\"business_id\").loc[photo_df[\"business_id\"].unique()]\n",
    "biz_df = biz_df[[\"review_count\", \"stars\"]]\n",
    "biz_df = biz_df[biz_df[\"review_count\"] >= 5]"
   ]
  },
  {
   "cell_type": "code",
   "execution_count": 47,
   "metadata": {
    "collapsed": false
   },
   "outputs": [],
   "source": [
    "photo_df = photo_df[photo_df['business_id'].isin(biz_df.index) == True]"
   ]
  },
  {
   "cell_type": "code",
   "execution_count": 48,
   "metadata": {
    "collapsed": true
   },
   "outputs": [],
   "source": [
    "df = photo_df.copy(deep=True)\n",
    "df[\"label\"] = pd.Series(biz_df.loc[df[\"business_id\"]][\"stars\"]).tolist()"
   ]
  },
  {
   "cell_type": "code",
   "execution_count": 65,
   "metadata": {
    "collapsed": false
   },
   "outputs": [],
   "source": [
    "categories = [2.0, 2.5, 3.0, 3.5, 4.0, 4.5, 5.0]\n",
    "temp_df = pd.DataFrame(columns=df.columns)\n",
    "for num in categories:\n",
    "    temp_df = temp_df.append(df[df[\"label\"] == num].sample(frac=1).head(n=1500))\n",
    "df = temp_df"
   ]
  },
  {
   "cell_type": "code",
   "execution_count": 67,
   "metadata": {
    "collapsed": false
   },
   "outputs": [],
   "source": [
    "biz_df.to_csv(\"data/clean_business.csv\")\n",
    "photo_df.to_csv(\"data/clean_photo.csv\")\n",
    "df.to_csv(\"data/clean_data.csv\")"
   ]
  }
 ],
 "metadata": {
  "kernelspec": {
   "display_name": "Python 3",
   "language": "python",
   "name": "python3"
  },
  "language_info": {
   "codemirror_mode": {
    "name": "ipython",
    "version": 3
   },
   "file_extension": ".py",
   "mimetype": "text/x-python",
   "name": "python",
   "nbconvert_exporter": "python",
   "pygments_lexer": "ipython3",
   "version": "3.6.5"
  }
 },
 "nbformat": 4,
 "nbformat_minor": 2
}
