{
 "cells": [
  {
   "cell_type": "code",
   "execution_count": null,
   "metadata": {
    "collapsed": true
   },
   "outputs": [],
   "source": [
    "# !conda install --yes --prefix {sys.prefix} scikit-image\n",
    "# !pip3 install scikit-image"
   ]
  },
  {
   "cell_type": "code",
   "execution_count": 70,
   "metadata": {
    "collapsed": true
   },
   "outputs": [],
   "source": [
    "import sys\n",
    "import pandas as pd\n",
    "import matplotlib.pyplot as plt\n",
    "import torch.utils.data\n",
    "from skimage import io, transform\n",
    "from skimage.measure import block_reduce\n",
    "import numpy as np\n",
    "import torch\n",
    "import torch.utils.data"
   ]
  },
  {
   "cell_type": "code",
   "execution_count": 71,
   "metadata": {
    "collapsed": true
   },
   "outputs": [],
   "source": [
    "def get_photo_file(photo_name):\n",
    "    return \"data/yelp_photos/photos/\" + photo_name + \".jpg\"\n",
    "\n",
    "def resize_img(img):\n",
    "    return transform.resize(img, (200, 200))"
   ]
  },
  {
   "cell_type": "code",
   "execution_count": 122,
   "metadata": {
    "collapsed": false
   },
   "outputs": [],
   "source": [
    "class YelpDataset(torch.utils.data.Dataset):\n",
    "    \n",
    "    def __init__(self, df, batch_size, shuffle=True):\n",
    "        self.df = df \n",
    "        self.batch_size = batch_size\n",
    "        if shuffle:\n",
    "            self.df = self.df.sample(frac=1)\n",
    "        \n",
    "    def __len__(self):\n",
    "        return len(self.df)\n",
    "\n",
    "    def __getitem__(self, idx):\n",
    "        photo_names = self.df.iloc[idx:idx+self.batch_size].index.tolist()\n",
    "        file_names = [get_photo_file(photo_name) for photo_name in photo_names]\n",
    "        images = [io.imread(file_name) for file_name in file_names]\n",
    "        images = [resize_img(img) for img in images] \n",
    "        label = self.df.iloc[idx:idx+self.batch_size].label.tolist()\n",
    "        return (torch.Tensor(images),torch.Tensor(label))"
   ]
  },
  {
   "cell_type": "code",
   "execution_count": 145,
   "metadata": {
    "collapsed": false
   },
   "outputs": [],
   "source": [
    "biz_df = pd.read_csv(\"data/clean_business.csv\").set_index(\"business_id\")\n",
    "photo_df = pd.read_csv(\"data/clean_photo.csv\").set_index(\"photo_id\")\n",
    "df = photo_df.copy(deep=True)\n",
    "df[\"label\"] = pd.Series(biz_df.loc[df[\"business_id\"]][\"stars\"]).tolist()\n",
    "\n",
    "train_df = df.iloc[0:int(len(df) * 0.7)]\n",
    "val_df = df.iloc[int(len(df) * 0.7):]"
   ]
  },
  {
   "cell_type": "raw",
   "metadata": {},
   "source": [
    "train_loader = YelpDataset(train_df, batch_size=32)\n",
    "val_loader = YelpDataset(val_df, batch_size=32)"
   ]
  },
  {
   "cell_type": "code",
   "execution_count": null,
   "metadata": {
    "collapsed": true
   },
   "outputs": [],
   "source": []
  }
 ],
 "metadata": {
  "kernelspec": {
   "display_name": "Python 3",
   "language": "python",
   "name": "python3"
  },
  "language_info": {
   "codemirror_mode": {
    "name": "ipython",
    "version": 3
   },
   "file_extension": ".py",
   "mimetype": "text/x-python",
   "name": "python",
   "nbconvert_exporter": "python",
   "pygments_lexer": "ipython3",
   "version": "3.6.5"
  }
 },
 "nbformat": 4,
 "nbformat_minor": 2
}
